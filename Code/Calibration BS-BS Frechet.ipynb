{
 "cells": [
  {
   "cell_type": "code",
   "execution_count": null,
   "metadata": {},
   "outputs": [],
   "source": [
    "import numpy as np\n",
    "from scipy.integrate import quad\n",
    "import pandas as pd\n",
    "from scipy.optimize import least_squares\n",
    "from scipy.optimize import root, brentq, minimize\n",
    "\n",
    "import plotly.graph_objs as go\n",
    "from plotly.offline import iplot\n",
    "\n",
    "import cufflinks as cf\n",
    "cf.go_offline()\n",
    "\n",
    "import plotly.io as pio\n",
    "\n",
    "\n",
    "from scipy.stats import norm\n",
    "###\n",
    "import time\n",
    "_tstart_stack = []\n",
    "\n",
    "def tic():\n",
    "    _tstart_stack.append(time.time())\n",
    "\n",
    "def toc(fmt=\"Elapsed: %s s\"):\n",
    "    print(fmt % (time.time() - _tstart_stack.pop()))\n",
    "###"
   ]
  },
  {
   "cell_type": "code",
   "execution_count": null,
   "metadata": {},
   "outputs": [],
   "source": [
    "def N(S):\n",
    "    return norm.cdf(S)\n",
    "\n",
    "## Define the functions outside the scope\n",
    "\n",
    "def dplus(S, K, sigmaT):\n",
    "    return np.log(S/K) / sigmaT + sigmaT * 0.5 \n",
    "\n",
    "def dminus(S, K, sigmaT):\n",
    "    return np.log(S/K) / sigmaT - sigmaT * 0.5\n",
    "\n",
    "# Price functional for a vanilla option\n",
    "def Price_func(S, K, T, Rd, Rf, sigmaT, Type = 1):\n",
    "    result = 0\n",
    "    if sigmaT == 0:\n",
    "        result = np.maximum( Type * (S * np.exp(-Rf * T) - K * np.exp(-Rd * T)),0)\n",
    "    else:\n",
    "        term1 = np.exp(-Rf * T) * S * N(Type * dplus(np.exp(-Rf * T) * S, np.exp(-Rd * T) * K, sigmaT))\n",
    "        term2 = np.exp(-Rd * T) * K * N(Type * dminus(np.exp(-Rf * T) * S, np.exp(-Rd * T) * K, sigmaT))\n",
    "        result = Type * (term1 - term2)\n",
    "    return result\n",
    "Price = np.vectorize(Price_func)\n",
    "\n",
    "# implied volatility\n",
    "def Impliedvol_func(S, K, T, Rd, Rf, price, Type = 1):\n",
    "    # Choose which root to take into account whether you are deep in the money or not.\n",
    "    def Root(x):\n",
    "        return Price(S, K, T, Rd, Rf, x * T ** 0.5, Type) - price\n",
    "    result = 0\n",
    "    try:\n",
    "        result = brentq(Root, 0.00001, 30)\n",
    "    except Exception:\n",
    "        print('There is a problem here with brentq')\n",
    "        result = root(Root, 0.2).x[0]\n",
    "    return result\n",
    "Impliedvol = np.vectorize(Impliedvol_func)"
   ]
  },
  {
   "cell_type": "markdown",
   "metadata": {},
   "source": [
    "Pareto Glue Pricing RS model "
   ]
  },
  {
   "cell_type": "code",
   "execution_count": null,
   "metadata": {},
   "outputs": [],
   "source": [
    "# my pricing formula \n",
    "def frechet_price_func(S, K, T, Rd, Rf, sigma0, sigma1, alpha, kappa, Type=1):\n",
    "    def integrand(t):\n",
    "        weight = alpha * t**(-1-alpha) * np.exp(-t**(-alpha))\n",
    "        premium = (1 - np.exp(-t**(-alpha))) ** kappa\n",
    "        bsprice = Price(S * (1 + kappa) * premium, K, T, Rd, Rf,(sigma0 ** 2 * t + sigma1 ** 2 * (T-t)) ** 0.5, Type)\n",
    "        return weight * bsprice\n",
    "\n",
    "    factor1 = Price(S * ((1 - np.exp(-T**(-alpha))) ** kappa), K, T, Rd, Rf, sigma0 * T ** 0.5, Type) * (1 - np.exp(-T**(-alpha)))\n",
    "    factor2, err = quad(integrand, 0, T)\n",
    "    return factor1 + factor2\n",
    "frechet_price = np.vectorize(frechet_price_func)"
   ]
  },
  {
   "cell_type": "markdown",
   "metadata": {},
   "source": [
    "s != 0"
   ]
  },
  {
   "cell_type": "code",
   "execution_count": null,
   "metadata": {},
   "outputs": [],
   "source": [
    "# my pricing formula \n",
    "# fixed s=2 -- same freedome\n",
    "def frechet_price_func2(S, K, T, Rd, Rf, sigma0, sigma1, alpha, kappa, s=2, Type=1):\n",
    "    def integrand(t):\n",
    "        weight = (alpha/s) * (t/s)**(-1-alpha) * np.exp(-(t/s)**(-alpha))\n",
    "        premium = (1 - np.exp(-(t/s)**(-alpha))) ** kappa\n",
    "        bsprice = Price(S * (1 + kappa) * premium, K, T, Rd, Rf,(sigma0 ** 2 * t + sigma1 ** 2 * (T-t)) ** 0.5, Type)\n",
    "        return weight * bsprice\n",
    "\n",
    "    factor1 = Price(S * ((1 - np.exp(-(T/s)**(-alpha))) ** kappa), K, T, Rd, Rf, sigma0 * T ** 0.5, Type) * (1 - np.exp(-(T/s)**(-alpha)))\n",
    "    factor2, err = quad(integrand, 0, T)\n",
    "    return factor1 + factor2\n",
    "frechet_price2 = np.vectorize(frechet_price_func2)"
   ]
  },
  {
   "cell_type": "code",
   "execution_count": null,
   "metadata": {},
   "outputs": [],
   "source": [
    "def Sigma_Model(x, S, K, T, Rd, Rf):\n",
    "    \"\"\"\n",
    "    sigma0, sigma1, alpha, kappa, \n",
    "    \n",
    "    x[0]: sigma0\n",
    "    x[1]: sigma1\n",
    "    x[2]: alpha\n",
    "    x[3]: kappa\n",
    "    \"\"\"\n",
    "#     price = frechet_price(S, K, T, Rd, Rf, x[0], x[1], x[2], x[3]) # s=0\n",
    "\n",
    "    price = frechet_price2(S, K, T, Rd, Rf, x[0], x[1], x[2], x[3]) # s!=01\n",
    "    return Impliedvol(S, K, T, Rd, Rf, price)"
   ]
  },
  {
   "cell_type": "code",
   "execution_count": null,
   "metadata": {},
   "outputs": [],
   "source": [
    "# fit with sigma lower bar\n",
    "def Fit_BF_sigmalow(OBJ, INPUT, GUESS, S, T, Rd, Rf, Verbose = 2):\n",
    "    \n",
    "    # By assumption OBJ = [SxP, SxP, SATM, SxC, SxC]\n",
    "    # And INPUT = [KxP, KxP, KATM, KxC, KxC]\n",
    "\n",
    "    # we first get the dimension\n",
    "    n = OBJ.size\n",
    "\n",
    "    BOUNDS = ([np.minimum(0.0001, OBJ[2]*0.3) , OBJ[2], 0.0001, -0.8], \n",
    "              [OBJ[2],                               2,  10,     0.8]) ## change! alpha upper bound\n",
    "    \n",
    "    # Check that the Guess is correct\n",
    "    GUESS[1] = np.maximum(GUESS[1], OBJ[2]) # for sigma upper [1]\n",
    "    GUESS[0] = np.maximum(np.minimum(GUESS[0], OBJ[2]*0.5), 0.0001) # for sigma lower\n",
    "\n",
    "    ###\n",
    "    Sigma = Sigma_Model\n",
    "\n",
    "    def fun(x, k, y):\n",
    "        z = x\n",
    "        term = np.empty(n)\n",
    "        for i in range(n):\n",
    "            term[i] = (Sigma(z, S, k[i], T, Rd, Rf) - y[i])\n",
    "        return term\n",
    "\n",
    "    res_lsq = least_squares(fun, \n",
    "                            GUESS, \n",
    "                            loss = 'cauchy', \n",
    "                            bounds=BOUNDS, \n",
    "                            args = (INPUT, OBJ), \n",
    "                            verbose = Verbose,\n",
    "                            max_nfev=180\n",
    "                           )\n",
    "    x = res_lsq.x\n",
    "    s = Sigma(x, S, INPUT, T, Rd, Rf)\n",
    "    \n",
    "    # 20190816 modify Errors\n",
    "    o1 = OBJ[0]\n",
    "    o2 = OBJ[1]\n",
    "    o3 = OBJ[2]\n",
    "    o4 = OBJ[3]\n",
    "    o5 = OBJ[4]\n",
    "\n",
    "    c1 = s[0]\n",
    "    c2 = s[1]\n",
    "    c3 = s[2]\n",
    "    c4 = s[3]\n",
    "    c5 = s[4]\n",
    "    \n",
    "    # mean squared error\n",
    "    e1 = ((o1 - c1)  / o1) ** 2\n",
    "    e2 = ((o2 - c2)  / o2) ** 2\n",
    "    e3 = ((o3 - c3)  / o3) ** 2\n",
    "    e4 = ((o4 - c4)  / o4) ** 2\n",
    "    e5 = ((o5 - c5)  / o5) ** 2\n",
    "\n",
    "    # 20190822 mean error\n",
    "    m1 = (np.abs(o1 - c1)  / o1)\n",
    "    m2 = (np.abs(o2 - c2)  / o2)\n",
    "    m3 = (np.abs(o3 - c3)  / o3)\n",
    "    m4 = (np.abs(o4 - c4)  / o4)\n",
    "    m5 = (np.abs(o5 - c5)  / o5)\n",
    "\n",
    "    rmse = ((e1+e2+e3+e4+e5) / 5) ** 0.5\n",
    "    mse = (m1+m2+m3+m4+m5) / 5 \n",
    "\n",
    "    # 20190816 two errors to one rmse\n",
    "    # 20190822 rmse, error, errorpa\n",
    "    error = np.linalg.norm(OBJ-s)\n",
    "    errorpa = error / OBJ.mean() * 100\n",
    "    return res_lsq.x, s, rmse, mse, error, errorpa, res_lsq.nfev, res_lsq.status"
   ]
  },
  {
   "cell_type": "code",
   "execution_count": null,
   "metadata": {},
   "outputs": [],
   "source": [
    "def func(row):\n",
    "    global GUESS\n",
    "    \n",
    "    S = row['S']\n",
    "    Rd = row['Rd']\n",
    "    Rf = row['Rf']\n",
    "    T = row['T']\n",
    "    \n",
    "    S10P = row['S10P']\n",
    "    S25P = row['S25P']\n",
    "    SATM = row['SATM']\n",
    "    S25C = row['S25C']\n",
    "    S10C = row['S10C']\n",
    "    \n",
    "    K10P = row['K10P']\n",
    "    K25P = row['K25P']\n",
    "    KATM = row['KATM']\n",
    "    K25C = row['K25C']\n",
    "    K10C = row['K10C']\n",
    "    \n",
    "    OBJ = np.array([S10P, S25P, SATM, S25C, S10C])\n",
    "    INPUT = np.array([K10P, K25P, KATM, K25C, K10C])\n",
    "    \n",
    "    res_lsq_x, s,rmse,mse, error, errorpa, res_lsq_nfev, res_lsq_status = Fit_BF_sigmalow(OBJ, INPUT, GUESS, S, T, Rd, Rf)\n",
    "    print('Data Now is:\\n%s\\nGUESS = %s\\n error = %f\\n errorpa = %f' %(row,GUESS, error, errorpa))\n",
    "    \n",
    "    GUESS = res_lsq_x\n",
    "\n",
    "    return pd.Series({\n",
    "        'sigma0': res_lsq_x[0],\n",
    "        'sigma1': res_lsq_x[1],\n",
    "        'alpha': res_lsq_x[2],\n",
    "        'kappa': res_lsq_x[3],\n",
    "        \n",
    "        'sS10P': s[0],\n",
    "        'sS25P': s[1],\n",
    "        'sSATM': s[2],\n",
    "        'sS25C': s[3],\n",
    "        'sS10C': s[4],\n",
    "        \n",
    "        'rmse': rmse,\n",
    "        'mse': mse,\n",
    "        'Err': error,\n",
    "        'ErrPa': errorpa,\n",
    "        'Nfev': res_lsq_nfev,\n",
    "        'Status': res_lsq_status\n",
    "        })"
   ]
  },
  {
   "cell_type": "code",
   "execution_count": null,
   "metadata": {},
   "outputs": [],
   "source": [
    "# 6M\n",
    "df = pd.read_pickle('./../Data/Data_for_Calibration/USDHKD0608_6M_for_Calibration_Average.pkl')\n",
    "del df['SEMP'] # delet semp which is ueseless"
   ]
  },
  {
   "cell_type": "markdown",
   "metadata": {},
   "source": [
    "# 2010~2020 bs2bs usdhkd 6m"
   ]
  },
  {
   "cell_type": "code",
   "execution_count": null,
   "metadata": {},
   "outputs": [],
   "source": [
    "# drop nan value\n",
    "df = df.dropna()\n",
    "\n",
    "df.head() # show and check"
   ]
  },
  {
   "cell_type": "code",
   "execution_count": null,
   "metadata": {},
   "outputs": [],
   "source": [
    "GUESS = np.array([0.00255773,  0.13067177,  0.79885264, -0.02901315])"
   ]
  },
  {
   "cell_type": "code",
   "execution_count": null,
   "metadata": {},
   "outputs": [],
   "source": [
    "tic()\n",
    "result_df = df.apply(func, axis = 1)\n",
    "toc()"
   ]
  },
  {
   "cell_type": "code",
   "execution_count": null,
   "metadata": {},
   "outputs": [],
   "source": [
    "# 6m 2010~2020: 45009.54560112953 s"
   ]
  },
  {
   "cell_type": "code",
   "execution_count": null,
   "metadata": {},
   "outputs": [],
   "source": [
    "combinedf = df.join(result_df)"
   ]
  },
  {
   "cell_type": "code",
   "execution_count": null,
   "metadata": {},
   "outputs": [],
   "source": [
    "combinedf.columns"
   ]
  },
  {
   "cell_type": "code",
   "execution_count": null,
   "metadata": {},
   "outputs": [],
   "source": []
  },
  {
   "cell_type": "code",
   "execution_count": null,
   "metadata": {},
   "outputs": [],
   "source": []
  },
  {
   "cell_type": "code",
   "execution_count": null,
   "metadata": {},
   "outputs": [],
   "source": []
  },
  {
   "cell_type": "code",
   "execution_count": null,
   "metadata": {},
   "outputs": [],
   "source": []
  },
  {
   "cell_type": "code",
   "execution_count": null,
   "metadata": {},
   "outputs": [],
   "source": []
  },
  {
   "cell_type": "code",
   "execution_count": null,
   "metadata": {},
   "outputs": [],
   "source": []
  },
  {
   "cell_type": "code",
   "execution_count": null,
   "metadata": {},
   "outputs": [],
   "source": []
  },
  {
   "cell_type": "code",
   "execution_count": null,
   "metadata": {},
   "outputs": [],
   "source": []
  },
  {
   "cell_type": "code",
   "execution_count": null,
   "metadata": {},
   "outputs": [],
   "source": []
  },
  {
   "cell_type": "code",
   "execution_count": null,
   "metadata": {},
   "outputs": [],
   "source": []
  },
  {
   "cell_type": "code",
   "execution_count": null,
   "metadata": {},
   "outputs": [],
   "source": []
  },
  {
   "cell_type": "code",
   "execution_count": null,
   "metadata": {},
   "outputs": [],
   "source": []
  },
  {
   "cell_type": "code",
   "execution_count": null,
   "metadata": {},
   "outputs": [],
   "source": []
  },
  {
   "cell_type": "code",
   "execution_count": null,
   "metadata": {},
   "outputs": [],
   "source": []
  },
  {
   "cell_type": "code",
   "execution_count": null,
   "metadata": {},
   "outputs": [],
   "source": []
  },
  {
   "cell_type": "code",
   "execution_count": null,
   "metadata": {},
   "outputs": [],
   "source": []
  },
  {
   "cell_type": "code",
   "execution_count": null,
   "metadata": {},
   "outputs": [],
   "source": []
  },
  {
   "cell_type": "code",
   "execution_count": null,
   "metadata": {},
   "outputs": [],
   "source": []
  },
  {
   "cell_type": "code",
   "execution_count": null,
   "metadata": {},
   "outputs": [],
   "source": []
  },
  {
   "cell_type": "code",
   "execution_count": null,
   "metadata": {},
   "outputs": [],
   "source": []
  },
  {
   "cell_type": "code",
   "execution_count": null,
   "metadata": {},
   "outputs": [],
   "source": []
  },
  {
   "cell_type": "code",
   "execution_count": null,
   "metadata": {},
   "outputs": [],
   "source": []
  },
  {
   "cell_type": "code",
   "execution_count": null,
   "metadata": {},
   "outputs": [],
   "source": []
  },
  {
   "cell_type": "code",
   "execution_count": null,
   "metadata": {},
   "outputs": [],
   "source": []
  },
  {
   "cell_type": "code",
   "execution_count": null,
   "metadata": {},
   "outputs": [],
   "source": []
  },
  {
   "cell_type": "code",
   "execution_count": null,
   "metadata": {},
   "outputs": [],
   "source": []
  },
  {
   "cell_type": "code",
   "execution_count": null,
   "metadata": {},
   "outputs": [],
   "source": []
  },
  {
   "cell_type": "code",
   "execution_count": null,
   "metadata": {},
   "outputs": [],
   "source": []
  },
  {
   "cell_type": "code",
   "execution_count": null,
   "metadata": {},
   "outputs": [],
   "source": []
  },
  {
   "cell_type": "code",
   "execution_count": null,
   "metadata": {},
   "outputs": [],
   "source": []
  },
  {
   "cell_type": "code",
   "execution_count": null,
   "metadata": {},
   "outputs": [],
   "source": []
  },
  {
   "cell_type": "code",
   "execution_count": null,
   "metadata": {},
   "outputs": [],
   "source": []
  },
  {
   "cell_type": "code",
   "execution_count": null,
   "metadata": {},
   "outputs": [],
   "source": []
  },
  {
   "cell_type": "code",
   "execution_count": null,
   "metadata": {},
   "outputs": [],
   "source": []
  },
  {
   "cell_type": "code",
   "execution_count": null,
   "metadata": {},
   "outputs": [],
   "source": []
  },
  {
   "cell_type": "code",
   "execution_count": null,
   "metadata": {},
   "outputs": [],
   "source": []
  },
  {
   "cell_type": "code",
   "execution_count": null,
   "metadata": {},
   "outputs": [],
   "source": []
  },
  {
   "cell_type": "code",
   "execution_count": null,
   "metadata": {},
   "outputs": [],
   "source": []
  },
  {
   "cell_type": "code",
   "execution_count": null,
   "metadata": {},
   "outputs": [],
   "source": []
  }
 ],
 "metadata": {
  "kernelspec": {
   "display_name": "Python 3",
   "language": "python",
   "name": "python3"
  },
  "language_info": {
   "codemirror_mode": {
    "name": "ipython",
    "version": 3
   },
   "file_extension": ".py",
   "mimetype": "text/x-python",
   "name": "python",
   "nbconvert_exporter": "python",
   "pygments_lexer": "ipython3",
   "version": "3.7.1"
  }
 },
 "nbformat": 4,
 "nbformat_minor": 4
}
